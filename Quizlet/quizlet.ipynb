{
 "cells": [
  {
   "cell_type": "code",
   "execution_count": 1,
   "metadata": {},
   "outputs": [],
   "source": [
    "import time\n",
    "from os import path\n",
    "import selenium as se\n",
    "from selenium import webdriver\n",
    "from selenium.webdriver.common.keys import Keys\n",
    "from selenium.webdriver.common.by import By\n",
    "from selenium.webdriver.chrome.options import Options\n",
    "import re #For regex"
   ]
  },
  {
   "cell_type": "code",
   "execution_count": 2,
   "metadata": {},
   "outputs": [],
   "source": [
    "def get_terms(driver, URL):\n",
    "    print('Getting page 2...')\n",
    "    page = driver.execute_script(\"return document.body.innerHTML;\")\n",
    "    print('Page retrieved.')\n",
    "    # print(page)\n",
    "\n",
    "    term_list = []\n",
    "    # soup = BeautifulSoup(page, 'html.parser')\n",
    "\n",
    "    #Gets list of terms from HTML, but not text directly \n",
    "    # terms = soup.findAll('Flashcard')\n",
    "\n",
    "    # Use regex to find the flashcard, which always begins with \"hasPart\\\":[\" and ends with \"]\"\n",
    "    print('Finding terms...')\n",
    "    flashcard_content = re.findall(r'\\\"hasPart\\\\\\\":\\[(.*?)\\]', page)\n",
    "    print(len(flashcard_content))\n",
    "\n",
    "    # Find the terms and definition pairs from the flashcard content, which always surounded by {}\"\n",
    "    terms = re.findall(r'\\{(.*?)\\}', flashcard_content[0])\n",
    "\n",
    "    #Gets each term from the list of terms, and gets the text for each term and definition\n",
    "    #Then puts it in the term list\n",
    "    for i in terms:\n",
    "        #Gets term\n",
    "        #term is in the format of \\\"Question\\\",\\\"eduQuestionType\\\":\\\"Flashcard\\\",\\\"text\\\":\n",
    "        a = re.findall(r'\\\\\"Flashcard\\\\\\\",\\\\\\\"text\\\\\\\":\\\\\\\"(.*?)\\\"', i)\n",
    "\n",
    "\n",
    "        #Gets definition\n",
    "        # Definition is in the format of \\\"Flashcard\\\",\\\"text\\\":\\\"Sequence\\\",\\\"acceptedAnswer\\\":{\\\"@type\\\":\\\"Answer\\\",\\\"text\\\":\\\n",
    "        b = re.findall(r'\\\\\\\"Answer\\\\\\\",\\\\\\\"text\\\\\\\":\\\\\\\"(.*?)\\\"', i)\n",
    "\n",
    "        current_term = (a, b)\n",
    "\n",
    "        term_list.append(current_term)\n",
    "\n",
    "    print(term_list)\n",
    "    driver.quit()\n",
    "    if(len(term_list) == 0):\n",
    "        raise Exception('Invalid URL')\n",
    "\n",
    "    return term_list\n"
   ]
  },
  {
   "cell_type": "code",
   "execution_count": 3,
   "metadata": {},
   "outputs": [],
   "source": [
    "#Asks for filename and returns it. Also checks if it exists\n",
    "def get_filename(filetype):\n",
    "    filename = input('Filename: ')\n",
    "    check_file(filename + filetype)\n",
    "    return filename + filetype"
   ]
  },
  {
   "cell_type": "code",
   "execution_count": 4,
   "metadata": {},
   "outputs": [],
   "source": [
    "def get_deck_name():\n",
    "    return input('Deck name: ')"
   ]
  },
  {
   "cell_type": "code",
   "execution_count": 5,
   "metadata": {},
   "outputs": [],
   "source": [
    "\n",
    "#Checks if file exists, if it does not, throw exception\n",
    "def check_file(filename):\n",
    "    if(path.exists(filename)):\n",
    "        print('File already exists')\n",
    "        raise Exception(\"File already exists\")"
   ]
  },
  {
   "cell_type": "code",
   "execution_count": 6,
   "metadata": {},
   "outputs": [],
   "source": [
    "url = \"https://quizlet.com/849173254/python-basics-flash-cards/\"\n",
    "\n",
    "#Asks for URL, makes sure it is a good URL\n",
    "# driver = uc.Chrome()\n",
    "driver = webdriver.Chrome()\n",
    "driver.maximize_window()"
   ]
  },
  {
   "cell_type": "code",
   "execution_count": 7,
   "metadata": {},
   "outputs": [
    {
     "ename": "WebDriverException",
     "evalue": "Message: unknown error: cannot determine loading status\nfrom disconnected: unable to send message to renderer\n  (Session info: chrome=123.0.6312.59)\nStacktrace:\n\tGetHandleVerifier [0x00007FF7DDD47062+63090]\n\t(No symbol) [0x00007FF7DDCB2CB2]\n\t(No symbol) [0x00007FF7DDB4EC65]\n\t(No symbol) [0x00007FF7DDB3C518]\n\t(No symbol) [0x00007FF7DDB3C4DC]\n\t(No symbol) [0x00007FF7DDB3ACCE]\n\t(No symbol) [0x00007FF7DDB3BA8F]\n\t(No symbol) [0x00007FF7DDB48F26]\n\t(No symbol) [0x00007FF7DDB5AB0E]\n\t(No symbol) [0x00007FF7DDB5F82A]\n\t(No symbol) [0x00007FF7DDB3C006]\n\t(No symbol) [0x00007FF7DDB5A6A4]\n\t(No symbol) [0x00007FF7DDBD376C]\n\t(No symbol) [0x00007FF7DDBB6D83]\n\t(No symbol) [0x00007FF7DDB883A8]\n\t(No symbol) [0x00007FF7DDB89441]\n\tGetHandleVerifier [0x00007FF7DE1425CD+4238301]\n\tGetHandleVerifier [0x00007FF7DE17F72D+4488509]\n\tGetHandleVerifier [0x00007FF7DE177A0F+4456479]\n\tGetHandleVerifier [0x00007FF7DDE205A6+953270]\n\t(No symbol) [0x00007FF7DDCBE57F]\n\t(No symbol) [0x00007FF7DDCB9254]\n\t(No symbol) [0x00007FF7DDCB938B]\n\t(No symbol) [0x00007FF7DDCA9BC4]\n\tBaseThreadInitThunk [0x00007FFBE7BD257D+29]\n\tRtlUserThreadStart [0x00007FFBE8DEAA58+40]\n",
     "output_type": "error",
     "traceback": [
      "\u001b[1;31m---------------------------------------------------------------------------\u001b[0m",
      "\u001b[1;31mWebDriverException\u001b[0m                        Traceback (most recent call last)",
      "Cell \u001b[1;32mIn[7], line 1\u001b[0m\n\u001b[1;32m----> 1\u001b[0m \u001b[43mdriver\u001b[49m\u001b[38;5;241;43m.\u001b[39;49m\u001b[43mget\u001b[49m\u001b[43m(\u001b[49m\u001b[43murl\u001b[49m\u001b[43m)\u001b[49m\n",
      "File \u001b[1;32mc:\\Users\\benzshawelt\\AppData\\Local\\Programs\\Python\\Python311\\Lib\\site-packages\\selenium\\webdriver\\remote\\webdriver.py:356\u001b[0m, in \u001b[0;36mWebDriver.get\u001b[1;34m(self, url)\u001b[0m\n\u001b[0;32m    354\u001b[0m \u001b[38;5;28;01mdef\u001b[39;00m \u001b[38;5;21mget\u001b[39m(\u001b[38;5;28mself\u001b[39m, url: \u001b[38;5;28mstr\u001b[39m) \u001b[38;5;241m-\u001b[39m\u001b[38;5;241m>\u001b[39m \u001b[38;5;28;01mNone\u001b[39;00m:\n\u001b[0;32m    355\u001b[0m \u001b[38;5;250m    \u001b[39m\u001b[38;5;124;03m\"\"\"Loads a web page in the current browser session.\"\"\"\u001b[39;00m\n\u001b[1;32m--> 356\u001b[0m     \u001b[38;5;28;43mself\u001b[39;49m\u001b[38;5;241;43m.\u001b[39;49m\u001b[43mexecute\u001b[49m\u001b[43m(\u001b[49m\u001b[43mCommand\u001b[49m\u001b[38;5;241;43m.\u001b[39;49m\u001b[43mGET\u001b[49m\u001b[43m,\u001b[49m\u001b[43m \u001b[49m\u001b[43m{\u001b[49m\u001b[38;5;124;43m\"\u001b[39;49m\u001b[38;5;124;43murl\u001b[39;49m\u001b[38;5;124;43m\"\u001b[39;49m\u001b[43m:\u001b[49m\u001b[43m \u001b[49m\u001b[43murl\u001b[49m\u001b[43m}\u001b[49m\u001b[43m)\u001b[49m\n",
      "File \u001b[1;32mc:\\Users\\benzshawelt\\AppData\\Local\\Programs\\Python\\Python311\\Lib\\site-packages\\selenium\\webdriver\\remote\\webdriver.py:347\u001b[0m, in \u001b[0;36mWebDriver.execute\u001b[1;34m(self, driver_command, params)\u001b[0m\n\u001b[0;32m    345\u001b[0m response \u001b[38;5;241m=\u001b[39m \u001b[38;5;28mself\u001b[39m\u001b[38;5;241m.\u001b[39mcommand_executor\u001b[38;5;241m.\u001b[39mexecute(driver_command, params)\n\u001b[0;32m    346\u001b[0m \u001b[38;5;28;01mif\u001b[39;00m response:\n\u001b[1;32m--> 347\u001b[0m     \u001b[38;5;28;43mself\u001b[39;49m\u001b[38;5;241;43m.\u001b[39;49m\u001b[43merror_handler\u001b[49m\u001b[38;5;241;43m.\u001b[39;49m\u001b[43mcheck_response\u001b[49m\u001b[43m(\u001b[49m\u001b[43mresponse\u001b[49m\u001b[43m)\u001b[49m\n\u001b[0;32m    348\u001b[0m     response[\u001b[38;5;124m\"\u001b[39m\u001b[38;5;124mvalue\u001b[39m\u001b[38;5;124m\"\u001b[39m] \u001b[38;5;241m=\u001b[39m \u001b[38;5;28mself\u001b[39m\u001b[38;5;241m.\u001b[39m_unwrap_value(response\u001b[38;5;241m.\u001b[39mget(\u001b[38;5;124m\"\u001b[39m\u001b[38;5;124mvalue\u001b[39m\u001b[38;5;124m\"\u001b[39m, \u001b[38;5;28;01mNone\u001b[39;00m))\n\u001b[0;32m    349\u001b[0m     \u001b[38;5;28;01mreturn\u001b[39;00m response\n",
      "File \u001b[1;32mc:\\Users\\benzshawelt\\AppData\\Local\\Programs\\Python\\Python311\\Lib\\site-packages\\selenium\\webdriver\\remote\\errorhandler.py:229\u001b[0m, in \u001b[0;36mErrorHandler.check_response\u001b[1;34m(self, response)\u001b[0m\n\u001b[0;32m    227\u001b[0m         alert_text \u001b[38;5;241m=\u001b[39m value[\u001b[38;5;124m\"\u001b[39m\u001b[38;5;124malert\u001b[39m\u001b[38;5;124m\"\u001b[39m]\u001b[38;5;241m.\u001b[39mget(\u001b[38;5;124m\"\u001b[39m\u001b[38;5;124mtext\u001b[39m\u001b[38;5;124m\"\u001b[39m)\n\u001b[0;32m    228\u001b[0m     \u001b[38;5;28;01mraise\u001b[39;00m exception_class(message, screen, stacktrace, alert_text)  \u001b[38;5;66;03m# type: ignore[call-arg]  # mypy is not smart enough here\u001b[39;00m\n\u001b[1;32m--> 229\u001b[0m \u001b[38;5;28;01mraise\u001b[39;00m exception_class(message, screen, stacktrace)\n",
      "\u001b[1;31mWebDriverException\u001b[0m: Message: unknown error: cannot determine loading status\nfrom disconnected: unable to send message to renderer\n  (Session info: chrome=123.0.6312.59)\nStacktrace:\n\tGetHandleVerifier [0x00007FF7DDD47062+63090]\n\t(No symbol) [0x00007FF7DDCB2CB2]\n\t(No symbol) [0x00007FF7DDB4EC65]\n\t(No symbol) [0x00007FF7DDB3C518]\n\t(No symbol) [0x00007FF7DDB3C4DC]\n\t(No symbol) [0x00007FF7DDB3ACCE]\n\t(No symbol) [0x00007FF7DDB3BA8F]\n\t(No symbol) [0x00007FF7DDB48F26]\n\t(No symbol) [0x00007FF7DDB5AB0E]\n\t(No symbol) [0x00007FF7DDB5F82A]\n\t(No symbol) [0x00007FF7DDB3C006]\n\t(No symbol) [0x00007FF7DDB5A6A4]\n\t(No symbol) [0x00007FF7DDBD376C]\n\t(No symbol) [0x00007FF7DDBB6D83]\n\t(No symbol) [0x00007FF7DDB883A8]\n\t(No symbol) [0x00007FF7DDB89441]\n\tGetHandleVerifier [0x00007FF7DE1425CD+4238301]\n\tGetHandleVerifier [0x00007FF7DE17F72D+4488509]\n\tGetHandleVerifier [0x00007FF7DE177A0F+4456479]\n\tGetHandleVerifier [0x00007FF7DDE205A6+953270]\n\t(No symbol) [0x00007FF7DDCBE57F]\n\t(No symbol) [0x00007FF7DDCB9254]\n\t(No symbol) [0x00007FF7DDCB938B]\n\t(No symbol) [0x00007FF7DDCA9BC4]\n\tBaseThreadInitThunk [0x00007FFBE7BD257D+29]\n\tRtlUserThreadStart [0x00007FFBE8DEAA58+40]\n"
     ]
    }
   ],
   "source": [
    "driver.get(url)"
   ]
  },
  {
   "cell_type": "code",
   "execution_count": null,
   "metadata": {},
   "outputs": [
    {
     "name": "stdout",
     "output_type": "stream",
     "text": [
      "Getting page 2...\n"
     ]
    }
   ],
   "source": [
    "term_list = get_terms(driver, url)"
   ]
  },
  {
   "cell_type": "code",
   "execution_count": null,
   "metadata": {},
   "outputs": [],
   "source": []
  }
 ],
 "metadata": {
  "kernelspec": {
   "display_name": "Python 3",
   "language": "python",
   "name": "python3"
  },
  "language_info": {
   "codemirror_mode": {
    "name": "ipython",
    "version": 3
   },
   "file_extension": ".py",
   "mimetype": "text/x-python",
   "name": "python",
   "nbconvert_exporter": "python",
   "pygments_lexer": "ipython3",
   "version": "3.11.8"
  }
 },
 "nbformat": 4,
 "nbformat_minor": 2
}
